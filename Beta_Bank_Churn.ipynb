{
 "cells": [
  {
   "cell_type": "markdown",
   "id": "ba892046-0cae-47eb-93c3-5b6d5ec7633a",
   "metadata": {},
   "source": [
    "# Beta Bank Churn"
   ]
  },
  {
   "cell_type": "markdown",
   "id": "bb891626-e44a-40de-b943-449db9b85c3f",
   "metadata": {},
   "source": [
    "# Introduction"
   ]
  },
  {
   "cell_type": "markdown",
   "id": "f06a76d1-9fce-46d1-94fc-231b04b4ffe6",
   "metadata": {},
   "source": [
    "I have data on Beta Bank customers, and my goal is to prediect whether not they will leave soon. My data includes contract termination status. To predict their behavior, I will try out a variety of supervised machine learning classifier models - logistic regression, decision tree, random forest. I'll look for duplicate rows and fill in missing values like usual. I'll split the data into feature and target sets. To train the logistic regression model, I will have to one-hot encode the categorical features and standardize the numeric features; for the tree/forest models, I will use ordinal encoding and numeric standardization. I will split both dataframes into training, validation, and test sets.\n",
    "\n",
    "I will examine the balance of classes in the target, and try building my models without balancing the classes, taking note of the F1 and accuracy scores. When I train my models, I will be optimizing for the highest possible F1 score, with accuracy as a sidenote.\n",
    "\n",
    "Then I will use downsampling and upsampling functions to balance the numbers of positive and negative target observations (the classes), train and validate the models with these fully preprocessed data sets, and select the model with the highest F1 score. At the end I will test the model's final F1 score using the testing set and find the AUC-ROC score. The primary requirement for a successful model is that the tested F1 score is at least 0.59. I will also do a sanity check on the accuracy and require the final tested model to surpass the accuracy score gleaned from chance, and the AUC-ROC will need to be over 0.50.\n",
    "\n",
    "Personally, I hope to gain greater understanding of how to preprocess data for different models, and how to balance classes. "
   ]
  },
  {
   "cell_type": "markdown",
   "id": "4f371db4-2ced-4c54-9913-7238e7cc2a0d",
   "metadata": {},
   "source": [
    "***Note to reviewer: using the enhanced performance package for Intel processors below, runtime was 25 seconds. When I ran the code without it, it took my laptop more than five minutes or so to finish running the code (I lost patience and stopped waiting). If the code doesn't run for you in a timely manner, I have an alternate model you can run that has the same hyperparameters and whatnot as what I found to be ideal. I hope that's OK.***"
   ]
  },
  {
   "cell_type": "code",
   "execution_count": 1,
   "id": "47702530-3922-484e-966a-81de18c41011",
   "metadata": {},
   "outputs": [],
   "source": [
    "import timeit\n",
    "start = timeit.default_timer()"
   ]
  },
  {
   "cell_type": "code",
   "execution_count": 36,
   "id": "7d88f1ac-260e-47de-9db6-384f1417582d",
   "metadata": {},
   "outputs": [
    {
     "name": "stderr",
     "output_type": "stream",
     "text": [
      "Intel(R) Extension for Scikit-learn* enabled (https://github.com/intel/scikit-learn-intelex)\n"
     ]
    }
   ],
   "source": [
    "import pandas as pd\n",
    "import matplotlib.pyplot as plt \n",
    "\n",
    "# from sklearnex import patch_sklearn # Enhanced performance package for Intel processors\n",
    "# patch_sklearn()\n",
    "\n",
    "from sklearn.tree import DecisionTreeClassifier\n",
    "from sklearn.ensemble import RandomForestClassifier\n",
    "from sklearn.linear_model import LogisticRegression\n",
    "\n",
    "from sklearn.model_selection import train_test_split\n",
    "from sklearn.metrics import f1_score, roc_auc_score, accuracy_score, roc_curve, precision_recall_curve\n",
    "from sklearn.preprocessing import OrdinalEncoder, StandardScaler\n",
    "from sklearn.utils import shuffle\n",
    "\n",
    "from joblib import dump"
   ]
  },
  {
   "cell_type": "markdown",
   "id": "3e2c436f-9e29-4b19-8ae2-69930b740d15",
   "metadata": {
    "tags": [],
    "toc-hr-collapsed": true
   },
   "source": [
    "# Preprocessing"
   ]
  },
  {
   "cell_type": "code",
   "execution_count": 3,
   "id": "a93500f5-f529-4eec-9ad6-d9778ca1f80d",
   "metadata": {},
   "outputs": [],
   "source": [
    "try:\n",
    "    df = pd.read_csv('churn.csv')\n",
    "except:\n",
    "    df = pd.read_csv('/datasets/churn.csv')"
   ]
  },
  {
   "cell_type": "code",
   "execution_count": 4,
   "id": "4c23b628-aeb0-45c6-840e-5bc4e33b697c",
   "metadata": {},
   "outputs": [
    {
     "name": "stdout",
     "output_type": "stream",
     "text": [
      "<class 'pandas.core.frame.DataFrame'>\n",
      "RangeIndex: 10000 entries, 0 to 9999\n",
      "Data columns (total 14 columns):\n",
      " #   Column           Non-Null Count  Dtype  \n",
      "---  ------           --------------  -----  \n",
      " 0   RowNumber        10000 non-null  int64  \n",
      " 1   CustomerId       10000 non-null  int64  \n",
      " 2   Surname          10000 non-null  object \n",
      " 3   CreditScore      10000 non-null  int64  \n",
      " 4   Geography        10000 non-null  object \n",
      " 5   Gender           10000 non-null  object \n",
      " 6   Age              10000 non-null  int64  \n",
      " 7   Tenure           9091 non-null   float64\n",
      " 8   Balance          10000 non-null  float64\n",
      " 9   NumOfProducts    10000 non-null  int64  \n",
      " 10  HasCrCard        10000 non-null  int64  \n",
      " 11  IsActiveMember   10000 non-null  int64  \n",
      " 12  EstimatedSalary  10000 non-null  float64\n",
      " 13  Exited           10000 non-null  int64  \n",
      "dtypes: float64(3), int64(8), object(3)\n",
      "memory usage: 1.1+ MB\n"
     ]
    }
   ],
   "source": [
    "df.info()"
   ]
  },
  {
   "cell_type": "markdown",
   "id": "9031dfa1-b002-43eb-83da-2c2f3a2bd69d",
   "metadata": {},
   "source": [
    "Almost 10% of the tenure data is missing. I don't want to drop these rows, but I should fill in the nans for the machine learning algorithms. Let's check normality."
   ]
  },
  {
   "cell_type": "code",
   "execution_count": 5,
   "id": "a1df937f-95ba-4e15-ae29-6e7d73073f4d",
   "metadata": {},
   "outputs": [
    {
     "data": {
      "text/plain": [
       "<Axes: >"
      ]
     },
     "execution_count": 5,
     "metadata": {},
     "output_type": "execute_result"
    },
    {
     "data": {
      "image/png": "[encoded data removed]",
      "text/plain": [
       "<Figure size 400x200 with 1 Axes>"
      ]
     },
     "metadata": {},
     "output_type": "display_data"
    }
   ],
   "source": [
    "df.Tenure.hist(figsize=(4,2))   "
   ]
  },
  {
   "cell_type": "markdown",
   "id": "d060b09e-7908-4978-b07a-2df42977bfc7",
   "metadata": {},
   "source": [
    "The distribution is uniform, not normal. Though mean and median look like they will be about equal anyway. Let's just use the median to fill in values."
   ]
  },
  {
   "cell_type": "code",
   "execution_count": 6,
   "id": "76feeee8-a981-4ba8-bd95-49fbd5864fb8",
   "metadata": {},
   "outputs": [],
   "source": [
    "df.Tenure = df.Tenure.fillna(df.Tenure.median()).astype('int')"
   ]
  },
  {
   "cell_type": "code",
   "execution_count": 7,
   "id": "0bf52402-b706-4b66-9642-787709ea72d1",
   "metadata": {},
   "outputs": [
    {
     "data": {
      "text/html": [
       "<div>\n",
       "<style scoped>\n",
       "    .dataframe tbody tr th:only-of-type {\n",
       "        vertical-align: middle;\n",
       "    }\n",
       "\n",
       "    .dataframe tbody tr th {\n",
       "        vertical-align: top;\n",
       "    }\n",
       "\n",
       "    .dataframe thead th {\n",
       "        text-align: right;\n",
       "    }\n",
       "</style>\n",
       "<table border=\"1\" class=\"dataframe\">\n",
       "  <thead>\n",
       "    <tr style=\"text-align: right;\">\n",
       "      <th></th>\n",
       "      <th>RowNumber</th>\n",
       "      <th>CustomerId</th>\n",
       "      <th>Surname</th>\n",
       "      <th>CreditScore</th>\n",
       "      <th>Geography</th>\n",
       "      <th>Gender</th>\n",
       "      <th>Age</th>\n",
       "      <th>Tenure</th>\n",
       "      <th>Balance</th>\n",
       "      <th>NumOfProducts</th>\n",
       "      <th>HasCrCard</th>\n",
       "      <th>IsActiveMember</th>\n",
       "      <th>EstimatedSalary</th>\n",
       "      <th>Exited</th>\n",
       "    </tr>\n",
       "  </thead>\n",
       "  <tbody>\n",
       "    <tr>\n",
       "      <th>0</th>\n",
       "      <td>1</td>\n",
       "      <td>15634602</td>\n",
       "      <td>Hargrave</td>\n",
       "      <td>619</td>\n",
       "      <td>France</td>\n",
       "      <td>Female</td>\n",
       "      <td>42</td>\n",
       "      <td>2</td>\n",
       "      <td>0.00</td>\n",
       "      <td>1</td>\n",
       "      <td>1</td>\n",
       "      <td>1</td>\n",
       "      <td>101348.88</td>\n",
       "      <td>1</td>\n",
       "    </tr>\n",
       "    <tr>\n",
       "      <th>1</th>\n",
       "      <td>2</td>\n",
       "      <td>15647311</td>\n",
       "      <td>Hill</td>\n",
       "      <td>608</td>\n",
       "      <td>Spain</td>\n",
       "      <td>Female</td>\n",
       "      <td>41</td>\n",
       "      <td>1</td>\n",
       "      <td>83807.86</td>\n",
       "      <td>1</td>\n",
       "      <td>0</td>\n",
       "      <td>1</td>\n",
       "      <td>112542.58</td>\n",
       "      <td>0</td>\n",
       "    </tr>\n",
       "    <tr>\n",
       "      <th>2</th>\n",
       "      <td>3</td>\n",
       "      <td>15619304</td>\n",
       "      <td>Onio</td>\n",
       "      <td>502</td>\n",
       "      <td>France</td>\n",
       "      <td>Female</td>\n",
       "      <td>42</td>\n",
       "      <td>8</td>\n",
       "      <td>159660.80</td>\n",
       "      <td>3</td>\n",
       "      <td>1</td>\n",
       "      <td>0</td>\n",
       "      <td>113931.57</td>\n",
       "      <td>1</td>\n",
       "    </tr>\n",
       "    <tr>\n",
       "      <th>3</th>\n",
       "      <td>4</td>\n",
       "      <td>15701354</td>\n",
       "      <td>Boni</td>\n",
       "      <td>699</td>\n",
       "      <td>France</td>\n",
       "      <td>Female</td>\n",
       "      <td>39</td>\n",
       "      <td>1</td>\n",
       "      <td>0.00</td>\n",
       "      <td>2</td>\n",
       "      <td>0</td>\n",
       "      <td>0</td>\n",
       "      <td>93826.63</td>\n",
       "      <td>0</td>\n",
       "    </tr>\n",
       "    <tr>\n",
       "      <th>4</th>\n",
       "      <td>5</td>\n",
       "      <td>15737888</td>\n",
       "      <td>Mitchell</td>\n",
       "      <td>850</td>\n",
       "      <td>Spain</td>\n",
       "      <td>Female</td>\n",
       "      <td>43</td>\n",
       "      <td>2</td>\n",
       "      <td>125510.82</td>\n",
       "      <td>1</td>\n",
       "      <td>1</td>\n",
       "      <td>1</td>\n",
       "      <td>79084.10</td>\n",
       "      <td>0</td>\n",
       "    </tr>\n",
       "  </tbody>\n",
       "</table>\n",
       "</div>"
      ],
      "text/plain": [
       "   RowNumber  CustomerId   Surname  CreditScore Geography  Gender  Age  \\\n",
       "0          1    15634602  Hargrave          619    France  Female   42   \n",
       "1          2    15647311      Hill          608     Spain  Female   41   \n",
       "2          3    15619304      Onio          502    France  Female   42   \n",
       "3          4    15701354      Boni          699    France  Female   39   \n",
       "4          5    15737888  Mitchell          850     Spain  Female   43   \n",
       "\n",
       "   Tenure    Balance  NumOfProducts  HasCrCard  IsActiveMember  \\\n",
       "0       2       0.00              1          1               1   \n",
       "1       1   83807.86              1          0               1   \n",
       "2       8  159660.80              3          1               0   \n",
       "3       1       0.00              2          0               0   \n",
       "4       2  125510.82              1          1               1   \n",
       "\n",
       "   EstimatedSalary  Exited  \n",
       "0        101348.88       1  \n",
       "1        112542.58       0  \n",
       "2        113931.57       1  \n",
       "3         93826.63       0  \n",
       "4         79084.10       0  "
      ]
     },
     "execution_count": 7,
     "metadata": {},
     "output_type": "execute_result"
    }
   ],
   "source": [
    "df.head()"
   ]
  },
  {
   "cell_type": "code",
   "execution_count": 8,
   "id": "e1308bb0-c6f2-4cd5-842b-f3e3236313be",
   "metadata": {},
   "outputs": [
    {
     "name": "stdout",
     "output_type": "stream",
     "text": [
      "<class 'pandas.core.frame.DataFrame'>\n",
      "RangeIndex: 10000 entries, 0 to 9999\n",
      "Data columns (total 14 columns):\n",
      " #   Column           Non-Null Count  Dtype  \n",
      "---  ------           --------------  -----  \n",
      " 0   RowNumber        10000 non-null  int64  \n",
      " 1   CustomerId       10000 non-null  int64  \n",
      " 2   Surname          10000 non-null  object \n",
      " 3   CreditScore      10000 non-null  int64  \n",
      " 4   Geography        10000 non-null  object \n",
      " 5   Gender           10000 non-null  object \n",
      " 6   Age              10000 non-null  int64  \n",
      " 7   Tenure           10000 non-null  int32  \n",
      " 8   Balance          10000 non-null  float64\n",
      " 9   NumOfProducts    10000 non-null  int64  \n",
      " 10  HasCrCard        10000 non-null  int64  \n",
      " 11  IsActiveMember   10000 non-null  int64  \n",
      " 12  EstimatedSalary  10000 non-null  float64\n",
      " 13  Exited           10000 non-null  int64  \n",
      "dtypes: float64(2), int32(1), int64(8), object(3)\n",
      "memory usage: 1.0+ MB\n"
     ]
    }
   ],
   "source": [
    "df.info()"
   ]
  },
  {
   "cell_type": "code",
   "execution_count": 9,
   "id": "f78a604e-9799-40a4-97b6-bbddf5e4cecd",
   "metadata": {},
   "outputs": [
    {
     "data": {
      "text/plain": [
       "0"
      ]
     },
     "execution_count": 9,
     "metadata": {},
     "output_type": "execute_result"
    }
   ],
   "source": [
    "df.duplicated().sum()"
   ]
  },
  {
   "cell_type": "markdown",
   "id": "c6093991-37c1-4ef6-96c6-0711249774b3",
   "metadata": {},
   "source": [
    "There are no duplicate rows, and missing values have been filled."
   ]
  },
  {
   "cell_type": "markdown",
   "id": "0469ab70-20dc-4d68-bd12-4fccece95d9a",
   "metadata": {},
   "source": [
    "I will process the dataframe using one-hot encoding for when we test our logistic regression model, and separately using ordinal encoding for when we test our decision tree and random forest classifier models. The categorical features, geography and gender, are both nominal, so we won't have to worry about assigning orders to them. Before that I will collect the features and targets into their own DataFrames/Series."
   ]
  },
  {
   "cell_type": "code",
   "execution_count": 10,
   "id": "031098c3-cab0-4136-bb27-81abad797e33",
   "metadata": {},
   "outputs": [],
   "source": [
    "features = df.drop(['RowNumber', 'CustomerId', 'Surname', 'Exited'], axis=1) # Omit unhelpful features (identifiers) along with the target\n",
    "target = df.Exited"
   ]
  },
  {
   "cell_type": "markdown",
   "id": "49fb46a3-0ffd-466c-9cdc-b1f3804c32c5",
   "metadata": {},
   "source": [
    "## Prepare logistic regression data"
   ]
  },
  {
   "cell_type": "code",
   "execution_count": 11,
   "id": "eb57d34b-714a-4fab-8722-7cb27858e80b",
   "metadata": {},
   "outputs": [],
   "source": [
    "features_ohe = pd.get_dummies(features, drop_first=True) # Create one-hot encoded dataframe for logistic regression"
   ]
  },
  {
   "cell_type": "markdown",
   "id": "16ef3468-66d9-4a7e-b60a-c0abdc5fd963",
   "metadata": {},
   "source": [
    "Now that we've dealt with the categorical variables, I'd like to standardize the numeric variables. We can use the standard scaler class for this. But, we'll need to split up the data into training, validation, and testing sets before I standardize the data, to make sure the class uses the most precise mean/variance for its calculations."
   ]
  },
  {
   "cell_type": "markdown",
   "id": "3732a0b3-0bd1-4002-82ca-07912395931f",
   "metadata": {},
   "source": [
    "I want 60% of the data to be used for training, and 20% for the validation and test sets each. \n",
    "We will first split the features and target datasets into a training set and a test set, at an 80/20 ratio. \n",
    "Then, we can further divide this new training set into an ultimate training set and a validation set. In this case, the validation set needs to come from 25% of the training set to give us the 60/20/20 ratio. This is because 25% of 80 equals 20."
   ]
  },
  {
   "cell_type": "code",
   "execution_count": 12,
   "id": "111266e3-485a-459b-a726-c9b6d9690108",
   "metadata": {},
   "outputs": [],
   "source": [
    "x_train, features_test_ohe, y_train, target_test = train_test_split(\n",
    "    features_ohe, target, test_size=0.2, random_state=123)\n",
    "\n",
    "features_train_ohe, features_valid_ohe, target_train, target_valid = train_test_split(\n",
    "    x_train, y_train, test_size=0.25, random_state=123)"
   ]
  },
  {
   "cell_type": "code",
   "execution_count": 13,
   "id": "930e5fba-b383-49d9-8a72-2e822a556aba",
   "metadata": {},
   "outputs": [],
   "source": [
    "numeric = ['CreditScore', 'Age', 'Tenure', 'Balance', 'NumOfProducts', 'EstimatedSalary'] # Create mask of numeric features\n",
    "\n",
    "scaler = StandardScaler()\n",
    "scaler.fit(features_train_ohe[numeric])\n",
    "\n",
    "features_train_ohe[numeric] = scaler.transform(features_train_ohe[numeric])\n",
    "features_valid_ohe[numeric] = scaler.transform(features_valid_ohe[numeric])\n",
    "features_test_ohe[numeric] = scaler.transform(features_test_ohe[numeric])"
   ]
  },
  {
   "cell_type": "code",
   "execution_count": 14,
   "id": "d443693c-e796-402d-ab0f-ae091b605482",
   "metadata": {},
   "outputs": [
    {
     "data": {
      "text/html": [
       "<div>\n",
       "<style scoped>\n",
       "    .dataframe tbody tr th:only-of-type {\n",
       "        vertical-align: middle;\n",
       "    }\n",
       "\n",
       "    .dataframe tbody tr th {\n",
       "        vertical-align: top;\n",
       "    }\n",
       "\n",
       "    .dataframe thead th {\n",
       "        text-align: right;\n",
       "    }\n",
       "</style>\n",
       "<table border=\"1\" class=\"dataframe\">\n",
       "  <thead>\n",
       "    <tr style=\"text-align: right;\">\n",
       "      <th></th>\n",
       "      <th>CreditScore</th>\n",
       "      <th>Age</th>\n",
       "      <th>Tenure</th>\n",
       "      <th>Balance</th>\n",
       "      <th>NumOfProducts</th>\n",
       "      <th>HasCrCard</th>\n",
       "      <th>IsActiveMember</th>\n",
       "      <th>EstimatedSalary</th>\n",
       "      <th>Geography_Germany</th>\n",
       "      <th>Geography_Spain</th>\n",
       "      <th>Gender_Male</th>\n",
       "    </tr>\n",
       "  </thead>\n",
       "  <tbody>\n",
       "    <tr>\n",
       "      <th>8189</th>\n",
       "      <td>0.652468</td>\n",
       "      <td>-1.698690</td>\n",
       "      <td>1.096509</td>\n",
       "      <td>-1.213083</td>\n",
       "      <td>0.781092</td>\n",
       "      <td>1</td>\n",
       "      <td>0</td>\n",
       "      <td>-0.535390</td>\n",
       "      <td>0</td>\n",
       "      <td>0</td>\n",
       "      <td>1</td>\n",
       "    </tr>\n",
       "    <tr>\n",
       "      <th>8845</th>\n",
       "      <td>0.796864</td>\n",
       "      <td>0.002583</td>\n",
       "      <td>-1.450269</td>\n",
       "      <td>0.886952</td>\n",
       "      <td>-0.920634</td>\n",
       "      <td>1</td>\n",
       "      <td>1</td>\n",
       "      <td>1.637287</td>\n",
       "      <td>1</td>\n",
       "      <td>0</td>\n",
       "      <td>0</td>\n",
       "    </tr>\n",
       "    <tr>\n",
       "      <th>1165</th>\n",
       "      <td>0.621526</td>\n",
       "      <td>0.947735</td>\n",
       "      <td>0.005033</td>\n",
       "      <td>1.258423</td>\n",
       "      <td>0.781092</td>\n",
       "      <td>0</td>\n",
       "      <td>0</td>\n",
       "      <td>1.681465</td>\n",
       "      <td>1</td>\n",
       "      <td>0</td>\n",
       "      <td>0</td>\n",
       "    </tr>\n",
       "    <tr>\n",
       "      <th>1742</th>\n",
       "      <td>-0.698668</td>\n",
       "      <td>1.420312</td>\n",
       "      <td>-1.450269</td>\n",
       "      <td>0.022130</td>\n",
       "      <td>-0.920634</td>\n",
       "      <td>0</td>\n",
       "      <td>0</td>\n",
       "      <td>0.672609</td>\n",
       "      <td>1</td>\n",
       "      <td>0</td>\n",
       "      <td>0</td>\n",
       "    </tr>\n",
       "    <tr>\n",
       "      <th>1139</th>\n",
       "      <td>0.776236</td>\n",
       "      <td>1.703857</td>\n",
       "      <td>-1.450269</td>\n",
       "      <td>0.538309</td>\n",
       "      <td>-0.920634</td>\n",
       "      <td>0</td>\n",
       "      <td>1</td>\n",
       "      <td>-1.715362</td>\n",
       "      <td>0</td>\n",
       "      <td>1</td>\n",
       "      <td>0</td>\n",
       "    </tr>\n",
       "  </tbody>\n",
       "</table>\n",
       "</div>"
      ],
      "text/plain": [
       "      CreditScore       Age    Tenure   Balance  NumOfProducts  HasCrCard  \\\n",
       "8189     0.652468 -1.698690  1.096509 -1.213083       0.781092          1   \n",
       "8845     0.796864  0.002583 -1.450269  0.886952      -0.920634          1   \n",
       "1165     0.621526  0.947735  0.005033  1.258423       0.781092          0   \n",
       "1742    -0.698668  1.420312 -1.450269  0.022130      -0.920634          0   \n",
       "1139     0.776236  1.703857 -1.450269  0.538309      -0.920634          0   \n",
       "\n",
       "      IsActiveMember  EstimatedSalary  Geography_Germany  Geography_Spain  \\\n",
       "8189               0        -0.535390                  0                0   \n",
       "8845               1         1.637287                  1                0   \n",
       "1165               0         1.681465                  1                0   \n",
       "1742               0         0.672609                  1                0   \n",
       "1139               1        -1.715362                  0                1   \n",
       "\n",
       "      Gender_Male  \n",
       "8189            1  \n",
       "8845            0  \n",
       "1165            0  \n",
       "1742            0  \n",
       "1139            0  "
      ]
     },
     "execution_count": 14,
     "metadata": {},
     "output_type": "execute_result"
    }
   ],
   "source": [
    "features_train_ohe.head()"
   ]
  },
  {
   "cell_type": "markdown",
   "id": "a0274412-aa48-4786-84ee-71032cbe85ea",
   "metadata": {},
   "source": [
    "The table looks as it is supposed to. The nominal categorical features have been split into binary features, and the numeric features have been scaled."
   ]
  },
  {
   "cell_type": "markdown",
   "id": "50a75232-2f3e-454d-b07e-66598627dc20",
   "metadata": {},
   "source": [
    "## Prepare decision tree/random forest data"
   ]
  },
  {
   "cell_type": "code",
   "execution_count": 15,
   "id": "ec9461c1-2299-4db9-891f-a50d57dbe110",
   "metadata": {},
   "outputs": [
    {
     "data": {
      "text/html": [
       "<div>\n",
       "<style scoped>\n",
       "    .dataframe tbody tr th:only-of-type {\n",
       "        vertical-align: middle;\n",
       "    }\n",
       "\n",
       "    .dataframe tbody tr th {\n",
       "        vertical-align: top;\n",
       "    }\n",
       "\n",
       "    .dataframe thead th {\n",
       "        text-align: right;\n",
       "    }\n",
       "</style>\n",
       "<table border=\"1\" class=\"dataframe\">\n",
       "  <thead>\n",
       "    <tr style=\"text-align: right;\">\n",
       "      <th></th>\n",
       "      <th>CreditScore</th>\n",
       "      <th>Geography</th>\n",
       "      <th>Gender</th>\n",
       "      <th>Age</th>\n",
       "      <th>Tenure</th>\n",
       "      <th>Balance</th>\n",
       "      <th>NumOfProducts</th>\n",
       "      <th>HasCrCard</th>\n",
       "      <th>IsActiveMember</th>\n",
       "      <th>EstimatedSalary</th>\n",
       "    </tr>\n",
       "  </thead>\n",
       "  <tbody>\n",
       "    <tr>\n",
       "      <th>0</th>\n",
       "      <td>228.0</td>\n",
       "      <td>0.0</td>\n",
       "      <td>0.0</td>\n",
       "      <td>24.0</td>\n",
       "      <td>2.0</td>\n",
       "      <td>0.0</td>\n",
       "      <td>0.0</td>\n",
       "      <td>1.0</td>\n",
       "      <td>1.0</td>\n",
       "      <td>5068.0</td>\n",
       "    </tr>\n",
       "    <tr>\n",
       "      <th>1</th>\n",
       "      <td>217.0</td>\n",
       "      <td>2.0</td>\n",
       "      <td>0.0</td>\n",
       "      <td>23.0</td>\n",
       "      <td>1.0</td>\n",
       "      <td>743.0</td>\n",
       "      <td>0.0</td>\n",
       "      <td>0.0</td>\n",
       "      <td>1.0</td>\n",
       "      <td>5639.0</td>\n",
       "    </tr>\n",
       "    <tr>\n",
       "      <th>2</th>\n",
       "      <td>111.0</td>\n",
       "      <td>0.0</td>\n",
       "      <td>0.0</td>\n",
       "      <td>24.0</td>\n",
       "      <td>8.0</td>\n",
       "      <td>5793.0</td>\n",
       "      <td>2.0</td>\n",
       "      <td>1.0</td>\n",
       "      <td>0.0</td>\n",
       "      <td>5707.0</td>\n",
       "    </tr>\n",
       "    <tr>\n",
       "      <th>3</th>\n",
       "      <td>308.0</td>\n",
       "      <td>0.0</td>\n",
       "      <td>0.0</td>\n",
       "      <td>21.0</td>\n",
       "      <td>1.0</td>\n",
       "      <td>0.0</td>\n",
       "      <td>1.0</td>\n",
       "      <td>0.0</td>\n",
       "      <td>0.0</td>\n",
       "      <td>4704.0</td>\n",
       "    </tr>\n",
       "    <tr>\n",
       "      <th>4</th>\n",
       "      <td>459.0</td>\n",
       "      <td>2.0</td>\n",
       "      <td>0.0</td>\n",
       "      <td>25.0</td>\n",
       "      <td>2.0</td>\n",
       "      <td>3696.0</td>\n",
       "      <td>0.0</td>\n",
       "      <td>1.0</td>\n",
       "      <td>1.0</td>\n",
       "      <td>3925.0</td>\n",
       "    </tr>\n",
       "  </tbody>\n",
       "</table>\n",
       "</div>"
      ],
      "text/plain": [
       "   CreditScore  Geography  Gender   Age  Tenure  Balance  NumOfProducts  \\\n",
       "0        228.0        0.0     0.0  24.0     2.0      0.0            0.0   \n",
       "1        217.0        2.0     0.0  23.0     1.0    743.0            0.0   \n",
       "2        111.0        0.0     0.0  24.0     8.0   5793.0            2.0   \n",
       "3        308.0        0.0     0.0  21.0     1.0      0.0            1.0   \n",
       "4        459.0        2.0     0.0  25.0     2.0   3696.0            0.0   \n",
       "\n",
       "   HasCrCard  IsActiveMember  EstimatedSalary  \n",
       "0        1.0             1.0           5068.0  \n",
       "1        0.0             1.0           5639.0  \n",
       "2        1.0             0.0           5707.0  \n",
       "3        0.0             0.0           4704.0  \n",
       "4        1.0             1.0           3925.0  "
      ]
     },
     "execution_count": 15,
     "metadata": {},
     "output_type": "execute_result"
    }
   ],
   "source": [
    "encoder = OrdinalEncoder()\n",
    "features_ordinal = pd.DataFrame(encoder.fit_transform(features), columns=features.columns) # Create label encoded dataframe for decision trees\n",
    "features_ordinal.head()"
   ]
  },
  {
   "cell_type": "markdown",
   "id": "ed329043-70e0-4a95-bad1-076bad7f6c53",
   "metadata": {},
   "source": [
    "Here I will split up the dataset in the same manner as last time."
   ]
  },
  {
   "cell_type": "code",
   "execution_count": 16,
   "id": "87927531-3097-43d8-8349-88fe5d776f7b",
   "metadata": {},
   "outputs": [],
   "source": [
    "x_train, features_test_ord, y_train, target_test = train_test_split(\n",
    "    features_ordinal, target, test_size=0.2, random_state=123)\n",
    "\n",
    "features_train_ord, features_valid_ord, target_train, target_valid = train_test_split(\n",
    "    x_train, y_train, test_size=0.25, random_state=123)"
   ]
  },
  {
   "cell_type": "markdown",
   "id": "38ff805e-a4e8-4f5f-bfd1-04f301788f07",
   "metadata": {},
   "source": [
    "Let's standardize the numeric features. We will again fit the scaler to the training set, and use this scaler to scale the training, validation, and test sets."
   ]
  },
  {
   "cell_type": "code",
   "execution_count": 17,
   "id": "6fee1aa3-0af3-439c-bf8d-51816441b043",
   "metadata": {},
   "outputs": [],
   "source": [
    "numeric = ['CreditScore', 'Age', 'Tenure', 'Balance', 'NumOfProducts', 'EstimatedSalary'] # Create mask of numeric features\n",
    "\n",
    "scaler = StandardScaler()\n",
    "scaler.fit(features_train_ord[numeric])\n",
    "\n",
    "features_train_ord[numeric] = scaler.transform(features_train_ord[numeric])\n",
    "features_valid_ord[numeric] = scaler.transform(features_valid_ord[numeric])\n",
    "features_test_ord[numeric] = scaler.transform(features_test_ord[numeric])"
   ]
  },
  {
   "cell_type": "code",
   "execution_count": 18,
   "id": "5ef8cb28-3a7e-4e8f-9c65-6bdb3b3dbabc",
   "metadata": {},
   "outputs": [
    {
     "data": {
      "text/html": [
       "<div>\n",
       "<style scoped>\n",
       "    .dataframe tbody tr th:only-of-type {\n",
       "        vertical-align: middle;\n",
       "    }\n",
       "\n",
       "    .dataframe tbody tr th {\n",
       "        vertical-align: top;\n",
       "    }\n",
       "\n",
       "    .dataframe thead th {\n",
       "        text-align: right;\n",
       "    }\n",
       "</style>\n",
       "<table border=\"1\" class=\"dataframe\">\n",
       "  <thead>\n",
       "    <tr style=\"text-align: right;\">\n",
       "      <th></th>\n",
       "      <th>CreditScore</th>\n",
       "      <th>Geography</th>\n",
       "      <th>Gender</th>\n",
       "      <th>Age</th>\n",
       "      <th>Tenure</th>\n",
       "      <th>Balance</th>\n",
       "      <th>NumOfProducts</th>\n",
       "      <th>HasCrCard</th>\n",
       "      <th>IsActiveMember</th>\n",
       "      <th>EstimatedSalary</th>\n",
       "    </tr>\n",
       "  </thead>\n",
       "  <tbody>\n",
       "    <tr>\n",
       "      <th>8189</th>\n",
       "      <td>0.652823</td>\n",
       "      <td>0.0</td>\n",
       "      <td>1.0</td>\n",
       "      <td>-1.700024</td>\n",
       "      <td>1.096509</td>\n",
       "      <td>-0.950460</td>\n",
       "      <td>0.781092</td>\n",
       "      <td>1.0</td>\n",
       "      <td>0.0</td>\n",
       "      <td>-0.539820</td>\n",
       "    </tr>\n",
       "    <tr>\n",
       "      <th>8845</th>\n",
       "      <td>0.797391</td>\n",
       "      <td>1.0</td>\n",
       "      <td>0.0</td>\n",
       "      <td>0.002775</td>\n",
       "      <td>-1.450269</td>\n",
       "      <td>1.025270</td>\n",
       "      <td>-0.920634</td>\n",
       "      <td>1.0</td>\n",
       "      <td>1.0</td>\n",
       "      <td>1.629777</td>\n",
       "    </tr>\n",
       "    <tr>\n",
       "      <th>1165</th>\n",
       "      <td>0.621844</td>\n",
       "      <td>1.0</td>\n",
       "      <td>0.0</td>\n",
       "      <td>0.948774</td>\n",
       "      <td>0.005033</td>\n",
       "      <td>1.692765</td>\n",
       "      <td>0.781092</td>\n",
       "      <td>0.0</td>\n",
       "      <td>0.0</td>\n",
       "      <td>1.670968</td>\n",
       "    </tr>\n",
       "    <tr>\n",
       "      <th>1742</th>\n",
       "      <td>-0.699922</td>\n",
       "      <td>1.0</td>\n",
       "      <td>0.0</td>\n",
       "      <td>1.421774</td>\n",
       "      <td>-1.450269</td>\n",
       "      <td>-0.720451</td>\n",
       "      <td>-0.920634</td>\n",
       "      <td>0.0</td>\n",
       "      <td>0.0</td>\n",
       "      <td>0.681011</td>\n",
       "    </tr>\n",
       "    <tr>\n",
       "      <th>1139</th>\n",
       "      <td>0.776739</td>\n",
       "      <td>2.0</td>\n",
       "      <td>0.0</td>\n",
       "      <td>1.705574</td>\n",
       "      <td>-1.450269</td>\n",
       "      <td>0.148889</td>\n",
       "      <td>-0.920634</td>\n",
       "      <td>0.0</td>\n",
       "      <td>1.0</td>\n",
       "      <td>-1.704923</td>\n",
       "    </tr>\n",
       "  </tbody>\n",
       "</table>\n",
       "</div>"
      ],
      "text/plain": [
       "      CreditScore  Geography  Gender       Age    Tenure   Balance  \\\n",
       "8189     0.652823        0.0     1.0 -1.700024  1.096509 -0.950460   \n",
       "8845     0.797391        1.0     0.0  0.002775 -1.450269  1.025270   \n",
       "1165     0.621844        1.0     0.0  0.948774  0.005033  1.692765   \n",
       "1742    -0.699922        1.0     0.0  1.421774 -1.450269 -0.720451   \n",
       "1139     0.776739        2.0     0.0  1.705574 -1.450269  0.148889   \n",
       "\n",
       "      NumOfProducts  HasCrCard  IsActiveMember  EstimatedSalary  \n",
       "8189       0.781092        1.0             0.0        -0.539820  \n",
       "8845      -0.920634        1.0             1.0         1.629777  \n",
       "1165       0.781092        0.0             0.0         1.670968  \n",
       "1742      -0.920634        0.0             0.0         0.681011  \n",
       "1139      -0.920634        0.0             1.0        -1.704923  "
      ]
     },
     "execution_count": 18,
     "metadata": {},
     "output_type": "execute_result"
    }
   ],
   "source": [
    "features_train_ord.head()"
   ]
  },
  {
   "cell_type": "markdown",
   "id": "9bf4e921-95ce-49c7-998d-317f75233b93",
   "metadata": {},
   "source": [
    "The table looks as it is supposed to. The nominal categorical features have been turned into encoded into numbers, and the numeric features have been standardized."
   ]
  },
  {
   "cell_type": "markdown",
   "id": "45f2d1e0-9c1b-46d5-b183-933d1266171d",
   "metadata": {
    "tags": [],
    "toc-hr-collapsed": true
   },
   "source": [
    "# Train models without balancing classes"
   ]
  },
  {
   "cell_type": "markdown",
   "id": "d8d6dd70-c5d9-4af0-b2e5-0e8bc322a3a3",
   "metadata": {},
   "source": [
    "We can look at the target Series to see the balance between positive and negative classes."
   ]
  },
  {
   "cell_type": "code",
   "execution_count": 19,
   "id": "3606fc36-9ac7-427c-9dee-724895984d45",
   "metadata": {},
   "outputs": [
    {
     "name": "stdout",
     "output_type": "stream",
     "text": [
      "0    7963\n",
      "1    2037\n",
      "Name: Exited, dtype: int64\n"
     ]
    }
   ],
   "source": [
    "target_classes = target.value_counts()\n",
    "print(target_classes)"
   ]
  },
  {
   "cell_type": "code",
   "execution_count": 20,
   "id": "0011e642-4717-4c65-904e-c89d8e3c6208",
   "metadata": {},
   "outputs": [
    {
     "name": "stdout",
     "output_type": "stream",
     "text": [
      "0.7963 of the target observations are negative.\n"
     ]
    }
   ],
   "source": [
    "class_ratio = target_classes[0]/target_classes.sum() #Perform sanity check\n",
    "print(class_ratio, 'of the target observations are negative.')"
   ]
  },
  {
   "cell_type": "markdown",
   "id": "09cabb17-395b-45e3-a931-c54e30824f9a",
   "metadata": {},
   "source": [
    "Looks like there are far more negative target observations than positive ones. We'll try to balance this later, but for now we will train some models. This will help us to see the importance of class balance. We will evaluate models based on accuracy (must be at least 80% accurate, per sanity check), and ultimately on highest F1 score."
   ]
  },
  {
   "cell_type": "markdown",
   "id": "2009b559-2818-4d14-8989-80203b65f695",
   "metadata": {},
   "source": [
    "## Logistic regression model"
   ]
  },
  {
   "cell_type": "code",
   "execution_count": 21,
   "id": "f6c2c11a-7dae-4609-b868-5b9bf9d3e04c",
   "metadata": {},
   "outputs": [
    {
     "name": "stdout",
     "output_type": "stream",
     "text": [
      "F1 score for training set: 0.30597014925373134\n",
      "Accuracy for training set: 0.814\n",
      "F1 score for validation set: 0.2783882783882784\n",
      "Accuracy for validation set: 0.803\n"
     ]
    }
   ],
   "source": [
    "model = LogisticRegression(solver='liblinear', random_state=123) # Using liblinear for small dataset\n",
    "model.fit(features_train_ohe, target_train)\n",
    "\n",
    "pred_train = model.predict(features_train_ohe)\n",
    "f1_score_train = f1_score(target_train, pred_train)\n",
    "accuracy_train = accuracy_score(target_train, pred_train)\n",
    "\n",
    "print('F1 score for training set:', f1_score_train)\n",
    "print('Accuracy for training set:', accuracy_train)\n",
    "\n",
    "pred_valid = model.predict(features_valid_ohe)\n",
    "f1_score_valid = f1_score(target_valid, pred_valid)\n",
    "accuracy_valid = accuracy_score(target_valid, pred_valid)\n",
    "\n",
    "print('F1 score for validation set:', f1_score_valid)\n",
    "print('Accuracy for validation set:', accuracy_valid)"
   ]
  },
  {
   "cell_type": "markdown",
   "id": "ca191fb8-7623-4523-839d-5f9c156fb0da",
   "metadata": {},
   "source": [
    "The logistic regression model performed more poorly with regards to its F1 score than I expected. The lower F1 score for the validation set may indicate some overfitting. The accuracy is just above the 0.80 threshold."
   ]
  },
  {
   "cell_type": "markdown",
   "id": "6942866e-3bba-4e3e-aabd-f53d96220b8b",
   "metadata": {},
   "source": [
    "## Decision tree model"
   ]
  },
  {
   "cell_type": "code",
   "execution_count": 22,
   "id": "20903e3a-8651-4da6-9048-05664feb09a5",
   "metadata": {},
   "outputs": [
    {
     "name": "stdout",
     "output_type": "stream",
     "text": [
      "Best F1 score: 0.5393586005830905 obtained using max depth 8.\n",
      "Model accuracy: 0.842\n"
     ]
    }
   ],
   "source": [
    "best_depth = 0\n",
    "model_accuracy = 0\n",
    "best_f1_score = 0\n",
    "model_tree = None\n",
    "\n",
    "for depth in range(1,11):\n",
    "    model = DecisionTreeClassifier(max_depth=depth, random_state = 123) # create instance of class\n",
    "    model.fit(features_train_ord, target_train) # Fit model with training data\n",
    "    pred_valid = model.predict(features_valid_ord)\n",
    "    \n",
    "    f1_score_var = f1_score(target_valid, pred_valid) # Calculate f1 score\n",
    "    accuracy = accuracy_score(target_valid, pred_valid)\n",
    "\n",
    "    # Document the highest-performing hyperparamaters, along with their corresponding accuracy\n",
    "    if f1_score_var > best_f1_score: \n",
    "        best_f1_score = f1_score_var\n",
    "        model_accuracy = accuracy\n",
    "        best_depth = depth\n",
    "        model_tree = model\n",
    "        \n",
    "print(f'Best F1 score: {best_f1_score} obtained using max depth {best_depth}.') \n",
    "print(f'Model accuracy: {model_accuracy}') "
   ]
  },
  {
   "cell_type": "markdown",
   "id": "f5290697-5796-4487-a4fe-3e7e804d89fd",
   "metadata": {},
   "source": [
    "Using a decision tree, the f1 score is a bit shy of the requirement, but its accuracy is above the requirement. Let's try the random forest."
   ]
  },
  {
   "cell_type": "markdown",
   "id": "a519408c-a4ce-4fcc-b95f-9cea057fe7d2",
   "metadata": {},
   "source": [
    "## Random forest model"
   ]
  },
  {
   "cell_type": "code",
   "execution_count": 23,
   "id": "b2c059da-6d33-43a6-89a7-ba37d7ca6193",
   "metadata": {},
   "outputs": [
    {
     "name": "stdout",
     "output_type": "stream",
     "text": [
      "Best F1 score: 0.5674418604651164 obtained using 60 trees with max_depth 8.\n",
      "Model accuracy: 0.8605\n"
     ]
    }
   ],
   "source": [
    "best_f1_score = 0\n",
    "model_accuracy = 0\n",
    "best_est = 0\n",
    "best_depth = 0\n",
    "model_forest = None\n",
    "\n",
    "for est in range (10, 101, 10):\n",
    "    for depth in range (1, 11):\n",
    "        model = RandomForestClassifier(\n",
    "            max_features=1.0, # The lack of this hyperparameter was causing warnings.\n",
    "            n_estimators=est, max_depth=depth, random_state=123)\n",
    "        model.fit(features_train_ord, target_train)\n",
    "        pred_valid = model.predict(features_valid_ord)\n",
    "        \n",
    "        f1_score_var = f1_score(target_valid, pred_valid) # Calculate f1 score\n",
    "        accuracy = accuracy_score(target_valid, pred_valid)\n",
    "        \n",
    "        if f1_score_var > best_f1_score: \n",
    "            best_f1_score = f1_score_var\n",
    "            model_accuracy = accuracy\n",
    "            best_depth = depth\n",
    "            best_est = est\n",
    "            model_tree = model\n",
    "            \n",
    "print(f\"Best F1 score: {best_f1_score} obtained using {best_est} trees with\\\n",
    " max_depth {best_depth}.\")\n",
    "print(f'Model accuracy: {model_accuracy}')"
   ]
  },
  {
   "cell_type": "markdown",
   "id": "6d112d02-6e14-498b-b984-5d67f8c2e1be",
   "metadata": {},
   "source": [
    "The random forest model performs a bit better in terms of F1 score than the single decision tree. However it still has not reached the requirement of 0.59. The accuracy is still above the 0.80 cutoff. Let's try logistic regression, using the OHE features."
   ]
  },
  {
   "cell_type": "markdown",
   "id": "ec9caf1e-974b-467f-b140-2593e99a8342",
   "metadata": {},
   "source": [
    "The model with the top F1 score is currently the random forest classifier with an F1 score of 0.56, which is nearly at our requirement of 0.59. Balancing the classes should be able to improve the F1 score for this model sufficiently. I am also curious to see what improvements, if any, are made to the logistic regression classifier."
   ]
  },
  {
   "cell_type": "markdown",
   "id": "c4093b57-959b-47c7-bf42-a4dfa61ffe52",
   "metadata": {
    "tags": [],
    "toc-hr-collapsed": true
   },
   "source": [
    "# Balance classes and retrain models"
   ]
  },
  {
   "cell_type": "markdown",
   "id": "9990f971-da42-49d9-91cf-834ec7b06c74",
   "metadata": {},
   "source": [
    "Below I will input upsampling and downsampling functions that I can use when I balance the classes."
   ]
  },
  {
   "cell_type": "code",
   "execution_count": 24,
   "id": "0ab626fe-fdcb-4c39-b9e4-298e0cdaf0e1",
   "metadata": {},
   "outputs": [],
   "source": [
    "def upsample(features, target, repeat): # Upsamples the positive class\n",
    "    features_zeros = features[target == 0]\n",
    "    features_ones = features[target == 1]\n",
    "    target_zeros = target[target == 0]\n",
    "    target_ones = target[target == 1]\n",
    "\n",
    "    features_upsampled = pd.concat([features_zeros] + [features_ones] * repeat)\n",
    "    target_upsampled = pd.concat([target_zeros] + [target_ones] * repeat)\n",
    "\n",
    "    features_upsampled, target_upsampled = shuffle(\n",
    "        features_upsampled, target_upsampled, random_state=54321)\n",
    "\n",
    "    return features_upsampled, target_upsampled"
   ]
  },
  {
   "cell_type": "code",
   "execution_count": 25,
   "id": "60d99cd1-7fcf-4445-8cc1-11629e30ecdd",
   "metadata": {},
   "outputs": [],
   "source": [
    "def downsample(features, target, fraction): # Downsamples the negative class\n",
    "    features_zeros = features[target == 0]\n",
    "    features_ones = features[target == 1]\n",
    "    target_zeros = target[target == 0]\n",
    "    target_ones = target[target == 1]\n",
    "\n",
    "    features_downsampled = pd.concat(\n",
    "        [features_zeros.sample(frac=fraction, random_state=54321)] + [features_ones])\n",
    "    target_downsampled = pd.concat(\n",
    "        [target_zeros.sample(frac=fraction, random_state=54321)] + [target_ones])\n",
    "\n",
    "    features_downsampled, target_downsampled = shuffle(\n",
    "        features_downsampled, target_downsampled, random_state=54321)\n",
    "\n",
    "    return features_downsampled, target_downsampled"
   ]
  },
  {
   "cell_type": "markdown",
   "id": "9af93812-b53c-4c7e-ba1d-547aed9aee1c",
   "metadata": {},
   "source": [
    "## Logistic regression model"
   ]
  },
  {
   "cell_type": "markdown",
   "id": "6893c61a-4d70-4e71-9933-9d88ad839470",
   "metadata": {},
   "source": [
    "Let's balance the classes by both downsampling a bit and by upsampling, first focusing on the logistic regression datasets. My goal for this model is for the classes to be evenly balanced."
   ]
  },
  {
   "cell_type": "code",
   "execution_count": 26,
   "id": "51f35b98-33a4-4c34-a7ed-eee68bedc3c4",
   "metadata": {},
   "outputs": [
    {
     "name": "stdout",
     "output_type": "stream",
     "text": [
      "(4804, 11)\n",
      "(4804,)\n",
      "1    2406\n",
      "0    2398\n",
      "Name: Exited, dtype: int64\n"
     ]
    }
   ],
   "source": [
    "features_train_ohe_downsampled, target_train_downsampled = downsample(features_train_ohe, target_train, 0.5)\n",
    "features_train_ohe_balanced, target_train_balanced = upsample(features_train_ohe_downsampled, target_train_downsampled, 2)\n",
    "\n",
    "print(features_train_ohe_balanced.shape)\n",
    "print(target_train_balanced.shape)\n",
    "print(target_train_balanced.value_counts())"
   ]
  },
  {
   "cell_type": "markdown",
   "id": "9d5001be-6352-4bf9-87a7-b1a992f97148",
   "metadata": {},
   "source": [
    "The classes have been balanced evenly through a combination of downsampling and upsampling. The two sets have the same length, as expected."
   ]
  },
  {
   "cell_type": "code",
   "execution_count": 27,
   "id": "9b4cb1b7-6d11-4f0e-ade3-d9eb35bf569c",
   "metadata": {},
   "outputs": [
    {
     "name": "stdout",
     "output_type": "stream",
     "text": [
      "F1 score for training set: 0.4860253015592822\n",
      "Accuracy for training set: 0.7088333333333333\n",
      "\n",
      "F1 score for validation set: 0.49871904355251917\n",
      "Accuracy for validation set: 0.7065\n"
     ]
    }
   ],
   "source": [
    "model = LogisticRegression(solver='liblinear', random_state=123) # Using liblinear for small dataset\n",
    "model.fit(features_train_ohe_balanced, target_train_balanced)\n",
    "\n",
    "pred_train = model.predict(features_train_ohe)\n",
    "f1_score_train = f1_score(target_train, pred_train)\n",
    "accuracy_train = accuracy_score(target_train, pred_train)\n",
    "\n",
    "print('F1 score for training set:', f1_score_train)\n",
    "print('Accuracy for training set:', accuracy_train)\n",
    "print()\n",
    "\n",
    "pred_valid = model.predict(features_valid_ohe)\n",
    "f1_score_valid = f1_score(target_valid, pred_valid)\n",
    "accuracy_valid = accuracy_score(target_valid, pred_valid)\n",
    "\n",
    "print('F1 score for validation set:', f1_score_valid)\n",
    "print('Accuracy for validation set:', accuracy_valid)"
   ]
  },
  {
   "cell_type": "markdown",
   "id": "f234b2e8-4541-4ac8-9862-6d4af8155eae",
   "metadata": {},
   "source": [
    "The validation F1 score is a good bit higher than it was when the classes were unbalanced, though still a good bit below the requirement. The accuracy score also dropped."
   ]
  },
  {
   "cell_type": "markdown",
   "id": "9039c470-28b1-4d3f-a763-cf6e46cde83e",
   "metadata": {},
   "source": [
    "## Decision tree model"
   ]
  },
  {
   "cell_type": "markdown",
   "id": "222e679c-332e-4a7c-89ec-76bd730f3a8e",
   "metadata": {},
   "source": [
    "Now I will balance the datasets with ordinal labels in the same ratio as I did above."
   ]
  },
  {
   "cell_type": "code",
   "execution_count": 28,
   "id": "10fd7e01-4811-4df0-9997-bbdc1df3e104",
   "metadata": {},
   "outputs": [
    {
     "name": "stdout",
     "output_type": "stream",
     "text": [
      "(4804, 10)\n",
      "(4804,)\n",
      "1    2406\n",
      "0    2398\n",
      "Name: Exited, dtype: int64\n"
     ]
    }
   ],
   "source": [
    "features_train_ord_downsampled, target_train_downsampled = downsample(features_train_ord, target_train, 0.5)\n",
    "features_train_ord_balanced, target_train_balanced = upsample(features_train_ord_downsampled, target_train_downsampled, 2)\n",
    "\n",
    "print(features_train_ord_balanced.shape)\n",
    "print(target_train_balanced.shape)\n",
    "print(target_train_balanced.value_counts())"
   ]
  },
  {
   "cell_type": "code",
   "execution_count": 29,
   "id": "bb2cb7a2-b4dc-402f-b31b-6625fbafece3",
   "metadata": {},
   "outputs": [
    {
     "name": "stdout",
     "output_type": "stream",
     "text": [
      "Best F1 score: 0.5482456140350878 obtained using max depth 4.\n",
      "Model accuracy: 0.794\n"
     ]
    }
   ],
   "source": [
    "best_depth = 0\n",
    "model_accuracy = 0\n",
    "best_f1_score = 0\n",
    "model_tree = None\n",
    "\n",
    "for depth in range(1,11):\n",
    "    model = DecisionTreeClassifier(max_depth=depth, random_state = 123) # create instance of class\n",
    "    model.fit(features_train_ord_balanced, target_train_balanced) # Fit model with training data\n",
    "    pred_valid = model.predict(features_valid_ord)\n",
    "    \n",
    "    f1_score_var = f1_score(target_valid, pred_valid) # Calculate f1 score\n",
    "    accuracy = accuracy_score(target_valid, pred_valid)\n",
    "\n",
    "    # Document the highest-performing hyperparamaters, along with their corresponding accuracy\n",
    "    if f1_score_var > best_f1_score: \n",
    "        best_f1_score = f1_score_var\n",
    "        model_accuracy = accuracy\n",
    "        best_depth = depth\n",
    "        model_tree = model\n",
    "        \n",
    "print(f'Best F1 score: {best_f1_score} obtained using max depth {best_depth}.') \n",
    "print(f'Model accuracy: {model_accuracy}') "
   ]
  },
  {
   "cell_type": "markdown",
   "id": "417a04d6-a609-44dc-ba74-3771dff3f7db",
   "metadata": {},
   "source": [
    "The F1 score is a bit higher than it was before balancing classes, but still has not met the requirement."
   ]
  },
  {
   "cell_type": "markdown",
   "id": "5ed604db-64db-445b-85a0-f94279d1d29a",
   "metadata": {},
   "source": [
    "## Random forest model"
   ]
  },
  {
   "cell_type": "markdown",
   "id": "8a340bfe-cdab-46b9-9a90-3d5a27dd65e4",
   "metadata": {},
   "source": [
    "Since the random forest model was the top-performing model in the previous section, I want to do my best to optimize this one. Instead of making the classes equal, I want to add loops into my model training that will upsample and downsample my data at different multipliers and fractions, in addition to looping through the number of estimators and the max depth. To keep the model performing at a reasonable speed, I will keep my number of estimators in a tighter range than I did previously, which hopefully will also help to avoid overfitting."
   ]
  },
  {
   "cell_type": "markdown",
   "id": "df8bfab6-cfb9-4f45-9fdf-f4902f1afb6e",
   "metadata": {},
   "source": [
    "***Note to reviewer: here is the code block that might cause a jam - comment out this block, and remove the comment markers from the next cell block below if the code takes too long to run.***"
   ]
  },
  {
   "cell_type": "code",
   "execution_count": 30,
   "id": "b0e058d9-2c08-42cb-a185-b624089ad653",
   "metadata": {},
   "outputs": [],
   "source": [
    "best_f1_score = 0\n",
    "model_accuracy = 0\n",
    "best_est = 0\n",
    "best_depth = 0\n",
    "model_forest = None\n",
    "best_x = 0\n",
    "best_y = 0\n",
    "\n",
    "for x in range(5, 11): # Loop through downsampling fractions 0.5 to 1 (see downsample function call below)\n",
    "    for y in range(1, 4): # loop through upsample multipliers 1 to 3 (see upsample function call below)\n",
    "        for est in range (20, 51, 10):\n",
    "            for depth in range (1, 11):\n",
    "                \n",
    "                features_train_ord_downsampled, target_train_downsampled = downsample(features_train_ord, target_train, x/10)\n",
    "                features_train_ord_balanced, target_train_balanced = upsample(features_train_ord_downsampled, target_train_downsampled, y)\n",
    "                \n",
    "                model = RandomForestClassifier(\n",
    "                    max_features=1.0, # The lack of this hyperparameter was causing warnings.\n",
    "                    n_estimators=est, max_depth=depth, random_state=123)\n",
    "                model.fit(features_train_ord_balanced, target_train_balanced)\n",
    "                pred_valid = model.predict(features_valid_ord)\n",
    "\n",
    "                f1_score_var = f1_score(target_valid, pred_valid) # Calculate f1 score\n",
    "                accuracy = accuracy_score(target_valid, pred_valid)\n",
    "\n",
    "                if f1_score_var > best_f1_score: \n",
    "                    best_f1_score = f1_score_var\n",
    "                    model_accuracy = accuracy\n",
    "                    best_depth = depth\n",
    "                    best_est = est\n",
    "                    model_forest = model  \n",
    "                    best_x = x\n",
    "                    best_y = y\n",
    "            \n",
    "print(f\"Best F1 score: {best_f1_score} obtained using {best_est} trees with\\\n",
    " max_depth {best_depth}.\")\n",
    "print(f'Ideal class balance achieved using downsampling fraction {x/10} and upsampling multiplier {y}.')\n",
    "print(f'Model accuracy: {model_accuracy}')"
   ]
  },
  {
   "cell_type": "markdown",
   "id": "e1702c22-6f48-48e7-b12a-4dae68481c28",
   "metadata": {},
   "source": [
    "The F1 score measured from the validation set is 0.61, which is above our 0.59 requirement! This score resulted from zero downsampling and 3x upsampling. Perhaps removing training data is not always ideal. \n",
    "Hyperparameters: 30 trees, max depth 9.\n",
    "With zero downsampling and 3x upsampling."
   ]
  },
  {
   "cell_type": "code",
   "execution_count": 31,
   "id": "e89a2c04-757d-46cf-8469-c0651c76a46f",
   "metadata": {},
   "outputs": [
    {
     "name": "stdout",
     "output_type": "stream",
     "text": [
      "Best F1 score: 0.5909090909090909 obtained using 30 trees with max_depth 9.\n",
      "Ideal class balance achieved using downsampling fraction 1.0 and upsampling multiplier 3.\n",
      "Model accuracy: 0.82\n"
     ]
    }
   ],
   "source": [
    "# features_train_ord_downsampled, target_train_downsampled = downsample(features_train_ord, target_train, 1)\n",
    "# features_train_ord_balanced, target_train_balanced = upsample(features_train_ord_downsampled, target_train_downsampled, 3)\n",
    "\n",
    "# model_forest = RandomForestClassifier(\n",
    "#     max_features=1.0, # The lack of this hyperparameter was causing warnings.\n",
    "#     n_estimators=30, max_depth=9, random_state=123)\n",
    "# model_forest.fit(features_train_ord_balanced, target_train_balanced)\n",
    "# pred_valid = model_forest.predict(features_valid_ord)\n",
    "\n",
    "# f1_score_var = f1_score(target_valid, pred_valid) # Calculate f1 score\n",
    "# accuracy = accuracy_score(target_valid, pred_valid)\n",
    "            \n",
    "# print(f\"Best F1 score: {f1_score_var} obtained using 30 trees with\\\n",
    "#  max_depth 9.\")\n",
    "# print(f'Ideal class balance achieved using downsampling fraction 1.0 and upsampling multiplier 3.')\n",
    "# print(f'Model accuracy: {accuracy}')"
   ]
  },
  {
   "cell_type": "markdown",
   "id": "cdb9ba10-1639-4e8b-95eb-2460a5787d49",
   "metadata": {},
   "source": [
    "# Test model"
   ]
  },
  {
   "cell_type": "markdown",
   "id": "a4922c48-9122-41ca-9de7-8229f76c0a1c",
   "metadata": {},
   "source": [
    "Let's test our highest performing model, the random forest model."
   ]
  },
  {
   "cell_type": "code",
   "execution_count": 32,
   "id": "905a1b31-050c-492f-b7a3-29d7cbf1ec7f",
   "metadata": {
    "tags": []
   },
   "outputs": [
    {
     "name": "stdout",
     "output_type": "stream",
     "text": [
      "F1 score for test set: 0.6313416009019166\n",
      "Accuracy for test set: 0.8365\n"
     ]
    }
   ],
   "source": [
    "pred_test = model_forest.predict(features_test_ord)\n",
    "f1_score_test = f1_score(target_test, pred_test)\n",
    "accuracy_test = accuracy_score(target_test, pred_test)\n",
    "\n",
    "print('F1 score for test set:', f1_score_test)\n",
    "print('Accuracy for test set:', accuracy_test)"
   ]
  },
  {
   "cell_type": "markdown",
   "id": "5023a1e5-cd6c-4f57-9256-27e685ded62f",
   "metadata": {},
   "source": [
    "Perfect, the F1 score is comfortably above our requirement of 0.59! And the accuracy is above our requirement of 0.80 as well, showing that our model performs better than guessing all zeroes. Let's check out the AUC-ROC score. It should at least be 0.5, which is the score that guessing would obtain."
   ]
  },
  {
   "cell_type": "code",
   "execution_count": 33,
   "id": "0b8d75d7-390b-45ba-9b3c-e6acec7c41a3",
   "metadata": {},
   "outputs": [
    {
     "data": {
      "image/png": "[encoded data removed]",
      "text/plain": [
       "<Figure size 400x400 with 1 Axes>"
      ]
     },
     "metadata": {},
     "output_type": "display_data"
    },
    {
     "name": "stdout",
     "output_type": "stream",
     "text": [
      "AUC-ROC score: 0.8657912531754299\n"
     ]
    }
   ],
   "source": [
    "probabilities_test = model_forest.predict_proba(features_test_ord)\n",
    "probabilities_one_test = probabilities_test[:, 1]\n",
    "\n",
    "fpr, tpr, thresholds = roc_curve(target_test, probabilities_one_test)\n",
    "\n",
    "plt.figure(figsize=(4,4))\n",
    "plt.plot(fpr, tpr)\n",
    "plt.plot([0, 1], [0, 1], linestyle='--')\n",
    "plt.xlim([0,1])\n",
    "plt.ylim([0,1])\n",
    "\n",
    "plt.xlabel('False Positive Rate')\n",
    "plt.ylabel('True Positive Rate')\n",
    "plt.title('ROC curve')\n",
    "\n",
    "plt.show()\n",
    "\n",
    "auc_roc = roc_auc_score(target_test, probabilities_one_test)\n",
    "print(f\"AUC-ROC score: {auc_roc}\")"
   ]
  },
  {
   "cell_type": "markdown",
   "id": "4e19209f-46d7-4194-ba4f-421d6ff818b0",
   "metadata": {
    "tags": []
   },
   "source": [
    "The AUC-ROC score is well above 0.5, and the curve looks excellent. This model satisfies all requirements."
   ]
  },
  {
   "cell_type": "code",
   "execution_count": 34,
   "id": "04c3be05-bd89-4ad5-b1d2-e5a6fe098075",
   "metadata": {},
   "outputs": [],
   "source": [
    "# Save the model to a joblib file for sharing\n",
    "# dump(model_forest, 'BetaBankChurnPredictor.joblib')"
   ]
  },
  {
   "cell_type": "markdown",
   "id": "fb5d0ad4-2fa8-4476-982a-9d458bcbe385",
   "metadata": {},
   "source": [
    "# Conclusion"
   ]
  },
  {
   "cell_type": "markdown",
   "id": "aada79d8-7f2d-4b92-9d99-4e6ec2b1b378",
   "metadata": {},
   "source": [
    "My goal was to build a classification model that could predict whether or not Beta Bank customers would churn in the near future. To accomplish this I processed the data by splitting it into features/targets, splitting those into training/validation/testing sets, and encoding/standardizing the features in ways appropriate to the models that I was training - one-hot encoding for logistic regression, and label encoding for decision tree and random forest. I eventually balanced the classes and found that the random forest model (with 30 trees, a max depth of 9, zero downsampling, and 3x upsampling) performed best in regards to F1 score. The requirement for F1 score was 0.59, and this model had a 0.64 F1 score when trained with the Intel extension for scikit-learn, and a 0.63 F1 score without this extension, along with accuracy and AUC-ROC scores that passed sanity checks. I saved the model as a .joblib file to my machine for safekeeping.\n",
    "\n",
    "Personally, I enjoyed figuring out when to use one-hot encoding vs label encoding, and thinking about how to standardize my numeric features. Balancing classes was trickier than I expected, but ultimately I was able to refine my F1 score from just barely reaching the requirement to comfortably surpassing it, by using methods that I didn't explicitly learn in the sprint (tweaking the levels of upsampling and downsampling) which I found satisfying. I also have never tested the efficacy of the Intel performance-enhancing package before, and am seriously impressed by both its increased accuracy and speed."
   ]
  },
  {
   "cell_type": "code",
   "execution_count": 35,
   "id": "5cfb4c54-cffd-461c-9ff4-2cb98b88e3f7",
   "metadata": {},
   "outputs": [
    {
     "name": "stdout",
     "output_type": "stream",
     "text": [
      "Time:  57.575938\n"
     ]
    }
   ],
   "source": [
    "stop = timeit.default_timer()\n",
    "print('Time: ', stop - start)"
   ]
  }
 ],
 "metadata": {
  "kernelspec": {
   "display_name": "Python 3 (ipykernel)",
   "language": "python",
   "name": "python3"
  },
  "language_info": {
   "codemirror_mode": {
    "name": "ipython",
    "version": 3
   },
   "file_extension": ".py",
   "mimetype": "text/x-python",
   "name": "python",
   "nbconvert_exporter": "python",
   "pygments_lexer": "ipython3",
   "version": "3.9.16"
  }
 },
 "nbformat": 4,
 "nbformat_minor": 5
}
